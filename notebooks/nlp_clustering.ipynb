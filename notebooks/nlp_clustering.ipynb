{
 "cells": [
  {
   "cell_type": "markdown",
   "id": "d0bcf675",
   "metadata": {},
   "source": [
    "# 🧠 NLP Clustering of Escort Ads\n",
    "Group similar escort ads using TF-IDF vectorization, KMeans clustering, and UMAP projection."
   ]
  },
  {
   "cell_type": "code",
   "execution_count": 1,
   "id": "a8033a0d",
   "metadata": {},
   "outputs": [
    {
     "name": "stderr",
     "output_type": "stream",
     "text": [
      "/Users/mariaanthoniez/Documents/AI-agent-Transpulse/transpulse/lib/python3.10/site-packages/tqdm/auto.py:21: TqdmWarning: IProgress not found. Please update jupyter and ipywidgets. See https://ipywidgets.readthedocs.io/en/stable/user_install.html\n",
      "  from .autonotebook import tqdm as notebook_tqdm\n",
      "/Users/mariaanthoniez/Documents/AI-agent-Transpulse/transpulse/lib/python3.10/site-packages/sklearn/utils/deprecation.py:132: FutureWarning: 'force_all_finite' was renamed to 'ensure_all_finite' in 1.6 and will be removed in 1.8.\n",
      "  warnings.warn(\n",
      "/Users/mariaanthoniez/Documents/AI-agent-Transpulse/transpulse/lib/python3.10/site-packages/umap/umap_.py:1952: UserWarning: n_jobs value 1 overridden to 1 by setting random_state. Use no seed for parallelism.\n",
      "  warn(\n"
     ]
    },
    {
     "name": "stdout",
     "output_type": "stream",
     "text": [
      "✅ File saved to: notebooks/outputs/escort_clusters.html\n"
     ]
    }
   ],
   "source": [
    "import pandas as pd\n",
    "from sklearn.feature_extraction.text import TfidfVectorizer\n",
    "from sklearn.cluster import KMeans\n",
    "import umap\n",
    "import plotly.express as px\n",
    "import numpy as np\n",
    "import plotly.io as pio\n",
    "import os\n",
    "\n",
    "# Make sure output folder exists\n",
    "os.makedirs(\"outputs\", exist_ok=True)\n",
    "\n",
    "# Load and prepare data\n",
    "df = pd.read_csv(\"../data/processed/all_profiles.csv\")\n",
    "df[\"description\"] = df[\"description\"].fillna(\"\")\n",
    "\n",
    "# TF-IDF vectorization\n",
    "tfidf = TfidfVectorizer(stop_words=\"english\", max_features=1000)\n",
    "X = tfidf.fit_transform(df[\"description\"])\n",
    "\n",
    "# KMeans clustering\n",
    "n_clusters = 5\n",
    "kmeans = KMeans(n_clusters=n_clusters, random_state=42)\n",
    "df[\"cluster\"] = kmeans.fit_predict(X)\n",
    "\n",
    "# UMAP dimensionality reduction\n",
    "umap_model = umap.UMAP(random_state=42)\n",
    "X_umap = umap_model.fit_transform(X.toarray())\n",
    "df[\"umap_x\"] = X_umap[:, 0]\n",
    "df[\"umap_y\"] = X_umap[:, 1]\n",
    "\n",
    "# Create interactive scatter plot\n",
    "fig = px.scatter(\n",
    "    df, x=\"umap_x\", y=\"umap_y\", color=df[\"cluster\"].astype(str),\n",
    "    hover_data=[\"title\", \"location\", \"category\", \"phone\"],\n",
    "    title=\"Escort Ad Clusters (TF-IDF + KMeans + UMAP)\"\n",
    ")\n",
    "\n",
    "# ✅ Save to notebooks/outputs\n",
    "fig.write_html(\"outputs/escort_clusters.html\")\n",
    "\n",
    "print(\"✅ File saved to: notebooks/outputs/escort_clusters.html\")\n"
   ]
  },
  {
   "cell_type": "markdown",
   "id": "5d74a0bf",
   "metadata": {},
   "source": [
    "## 🔍 Top TF-IDF Terms per Cluster"
   ]
  },
  {
   "cell_type": "code",
   "execution_count": 2,
   "id": "a88f9983",
   "metadata": {},
   "outputs": [
    {
     "name": "stdout",
     "output_type": "stream",
     "text": [
      "\n",
      "Cluster 0 top terms:\n",
      "  fun\n",
      "  looking\n",
      "  let\n",
      "  guy\n",
      "  good\n",
      "  meet\n",
      "  easy\n",
      "  host\n",
      "  discreet\n",
      "  just\n",
      "\n",
      "Cluster 1 top terms:\n",
      "  text\n",
      "  sexy\n",
      "  young\n",
      "  body\n",
      "  asian\n",
      "  service\n",
      "  massage\n",
      "  girl\n",
      "  100\n",
      "  hello\n",
      "\n",
      "Cluster 2 top terms:\n",
      "  love\n",
      "  pussy\n",
      "  like\n",
      "  fuck\n",
      "  man\n",
      "  cock\n",
      "  hello\n",
      "  sex\n",
      "  men\n",
      "  hey\n",
      "\n",
      "Cluster 3 top terms:\n",
      "  massage\n",
      "  body\n",
      "  relaxation\n",
      "  sensual\n",
      "  good\n",
      "  experience\n",
      "  touch\n",
      "  available\n",
      "  private\n",
      "  deep\n",
      "\n",
      "Cluster 4 top terms:\n",
      "  hi\n",
      "  melbourne\n",
      "  looking\n",
      "  new\n",
      "  make\n",
      "  want\n",
      "  time\n",
      "  experience\n",
      "  work\n",
      "  need\n"
     ]
    }
   ],
   "source": [
    "# Inspect top terms defining each cluster\n",
    "terms = tfidf.get_feature_names_out()\n",
    "centroids = kmeans.cluster_centers_\n",
    "\n",
    "for i, center in enumerate(centroids):\n",
    "    print(f\"\\nCluster {i} top terms:\")\n",
    "    top_indices = np.argsort(center)[-10:][::-1]\n",
    "    for idx in top_indices:\n",
    "        print(f\"  {terms[idx]}\")"
   ]
  }
 ],
 "metadata": {
  "kernelspec": {
   "display_name": "transpulse",
   "language": "python",
   "name": "python3"
  },
  "language_info": {
   "codemirror_mode": {
    "name": "ipython",
    "version": 3
   },
   "file_extension": ".py",
   "mimetype": "text/x-python",
   "name": "python",
   "nbconvert_exporter": "python",
   "pygments_lexer": "ipython3",
   "version": "3.10.5"
  }
 },
 "nbformat": 4,
 "nbformat_minor": 5
}
