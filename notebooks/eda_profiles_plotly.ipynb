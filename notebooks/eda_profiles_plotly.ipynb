{
 "cells": [
  {
   "cell_type": "markdown",
   "id": "1c757fea",
   "metadata": {},
   "source": [
    "# 📊 Interactive EDA with Plotly\n",
    "\n",
    "Explore escort profile data using interactive visualizations."
   ]
  },
  {
   "cell_type": "code",
   "execution_count": 32,
   "id": "f5cb0019",
   "metadata": {},
   "outputs": [
    {
     "data": {
      "text/html": [
       "<div>\n",
       "<style scoped>\n",
       "    .dataframe tbody tr th:only-of-type {\n",
       "        vertical-align: middle;\n",
       "    }\n",
       "\n",
       "    .dataframe tbody tr th {\n",
       "        vertical-align: top;\n",
       "    }\n",
       "\n",
       "    .dataframe thead th {\n",
       "        text-align: right;\n",
       "    }\n",
       "</style>\n",
       "<table border=\"1\" class=\"dataframe\">\n",
       "  <thead>\n",
       "    <tr style=\"text-align: right;\">\n",
       "      <th></th>\n",
       "      <th>title</th>\n",
       "      <th>description</th>\n",
       "      <th>profile_url</th>\n",
       "      <th>phone</th>\n",
       "      <th>age</th>\n",
       "      <th>location</th>\n",
       "      <th>image_url</th>\n",
       "      <th>category</th>\n",
       "      <th>source</th>\n",
       "      <th>desc_length</th>\n",
       "      <th>title_length</th>\n",
       "    </tr>\n",
       "  </thead>\n",
       "  <tbody>\n",
       "    <tr>\n",
       "      <th>0</th>\n",
       "      <td>FUN HOTT Aussie Chick CJ keen 2 find some new ...</td>\n",
       "      <td>Hey, I m Chloe Janee I m 18 recentlyt just sta...</td>\n",
       "      <td>https://www.locanto.com.au/brisbane/ID_7554557...</td>\n",
       "      <td>NaN</td>\n",
       "      <td>18.0</td>\n",
       "      <td>NaN</td>\n",
       "      <td>NaN</td>\n",
       "      <td>femaleEscort</td>\n",
       "      <td>NaN</td>\n",
       "      <td>297</td>\n",
       "      <td>60</td>\n",
       "    </tr>\n",
       "    <tr>\n",
       "      <th>1</th>\n",
       "      <td>Quickly Blow And Go Service</td>\n",
       "      <td>Text me 0451885118 Hi guy, I am a good sucker ...</td>\n",
       "      <td>https://www.locanto.com.au/vic/ID_7570504461/Q...</td>\n",
       "      <td>0451885118</td>\n",
       "      <td>20.0</td>\n",
       "      <td>NaN</td>\n",
       "      <td>NaN</td>\n",
       "      <td>femaleEscort</td>\n",
       "      <td>NaN</td>\n",
       "      <td>283</td>\n",
       "      <td>27</td>\n",
       "    </tr>\n",
       "    <tr>\n",
       "      <th>2</th>\n",
       "      <td>Vermont New Arrived! Beautiful face Sexy figur...</td>\n",
       "      <td>Hi Boys I m Hannah. A Model good looking girl....</td>\n",
       "      <td>https://www.locanto.com.au/vic/ID_7569608635/V...</td>\n",
       "      <td>NaN</td>\n",
       "      <td>NaN</td>\n",
       "      <td>NaN</td>\n",
       "      <td>NaN</td>\n",
       "      <td>femaleEscort</td>\n",
       "      <td>NaN</td>\n",
       "      <td>301</td>\n",
       "      <td>64</td>\n",
       "    </tr>\n",
       "    <tr>\n",
       "      <th>3</th>\n",
       "      <td>Outdoor fun anyone?</td>\n",
       "      <td>Looking to meet someone. Find what you’re look...</td>\n",
       "      <td>https://www.locanto.com.au/g/dol/signup/?utm_s...</td>\n",
       "      <td>NaN</td>\n",
       "      <td>NaN</td>\n",
       "      <td>NaN</td>\n",
       "      <td>NaN</td>\n",
       "      <td>femaleEscort</td>\n",
       "      <td>NaN</td>\n",
       "      <td>57</td>\n",
       "      <td>19</td>\n",
       "    </tr>\n",
       "    <tr>\n",
       "      <th>4</th>\n",
       "      <td>INDIAN PUNJABI COLLEGE GIRL AVAILABLE FOR YOU</td>\n",
       "      <td>Text me on WhatsApp 61489043930 Text me on Wha...</td>\n",
       "      <td>https://www.locanto.com.au/melbourne/ID_756891...</td>\n",
       "      <td>NaN</td>\n",
       "      <td>NaN</td>\n",
       "      <td>NaN</td>\n",
       "      <td>NaN</td>\n",
       "      <td>femaleEscort</td>\n",
       "      <td>NaN</td>\n",
       "      <td>63</td>\n",
       "      <td>45</td>\n",
       "    </tr>\n",
       "  </tbody>\n",
       "</table>\n",
       "</div>"
      ],
      "text/plain": [
       "                                               title  \\\n",
       "0  FUN HOTT Aussie Chick CJ keen 2 find some new ...   \n",
       "1                        Quickly Blow And Go Service   \n",
       "2  Vermont New Arrived! Beautiful face Sexy figur...   \n",
       "3                                Outdoor fun anyone?   \n",
       "4      INDIAN PUNJABI COLLEGE GIRL AVAILABLE FOR YOU   \n",
       "\n",
       "                                         description  \\\n",
       "0  Hey, I m Chloe Janee I m 18 recentlyt just sta...   \n",
       "1  Text me 0451885118 Hi guy, I am a good sucker ...   \n",
       "2  Hi Boys I m Hannah. A Model good looking girl....   \n",
       "3  Looking to meet someone. Find what you’re look...   \n",
       "4  Text me on WhatsApp 61489043930 Text me on Wha...   \n",
       "\n",
       "                                         profile_url       phone   age  \\\n",
       "0  https://www.locanto.com.au/brisbane/ID_7554557...         NaN  18.0   \n",
       "1  https://www.locanto.com.au/vic/ID_7570504461/Q...  0451885118  20.0   \n",
       "2  https://www.locanto.com.au/vic/ID_7569608635/V...         NaN   NaN   \n",
       "3  https://www.locanto.com.au/g/dol/signup/?utm_s...         NaN   NaN   \n",
       "4  https://www.locanto.com.au/melbourne/ID_756891...         NaN   NaN   \n",
       "\n",
       "  location image_url      category  source  desc_length  title_length  \n",
       "0      NaN       NaN  femaleEscort     NaN          297            60  \n",
       "1      NaN       NaN  femaleEscort     NaN          283            27  \n",
       "2      NaN       NaN  femaleEscort     NaN          301            64  \n",
       "3      NaN       NaN  femaleEscort     NaN           57            19  \n",
       "4      NaN       NaN  femaleEscort     NaN           63            45  "
      ]
     },
     "execution_count": 32,
     "metadata": {},
     "output_type": "execute_result"
    }
   ],
   "source": [
    "import pandas as pd\n",
    "import plotly.express as px\n",
    "import plotly.graph_objects as go\n",
    "\n",
    "df = pd.read_csv(\"../data/processed/all_profiles.csv\")\n",
    "df.replace(\"\", pd.NA, inplace=True)\n",
    "df[\"desc_length\"] = df[\"description\"].astype(str).apply(len)\n",
    "df[\"title_length\"] = df[\"title\"].astype(str).apply(len)\n",
    "df.head()"
   ]
  },
  {
   "cell_type": "markdown",
   "id": "de665f1f",
   "metadata": {},
   "source": [
    "## 📍 Location Distribution"
   ]
  },
  {
   "cell_type": "code",
   "execution_count": 33,
   "id": "26f1f7f7",
   "metadata": {},
   "outputs": [
    {
     "name": "stdout",
     "output_type": "stream",
     "text": [
      "✅ Saved bar chart to outputs/top_20_locations.html\n"
     ]
    }
   ],
   "source": [
    "import plotly.express as px\n",
    "import pandas as pd\n",
    "\n",
    "top_locs = df[\"location\"].value_counts().head(20).reset_index()\n",
    "top_locs.columns = [\"location\", \"count\"]\n",
    "\n",
    "fig = px.bar(top_locs, x=\"location\", y=\"count\", title=\"Top 20 Locations\")\n",
    "fig.write_html(\"outputs/top_20_locations.html\")\n",
    "\n",
    "print(\"✅ Saved bar chart to outputs/top_20_locations.html\")\n"
   ]
  },
  {
   "cell_type": "markdown",
   "id": "eaad8e29",
   "metadata": {},
   "source": [
    "## 🏷️ Category Counts"
   ]
  },
  {
   "cell_type": "code",
   "execution_count": 34,
   "id": "7f1ebf98",
   "metadata": {},
   "outputs": [
    {
     "name": "stdout",
     "output_type": "stream",
     "text": [
      "✅ Saved chart to outputs/category_counts.html\n"
     ]
    }
   ],
   "source": [
    "import plotly.express as px\n",
    "import pandas as pd\n",
    "\n",
    "# Count by category\n",
    "cat_counts = df[\"category\"].value_counts().reset_index()\n",
    "cat_counts.columns = [\"category\", \"count\"]\n",
    "\n",
    "# Create bar plot\n",
    "fig = px.bar(cat_counts, x=\"category\", y=\"count\", title=\"Ad Count by Category\")\n",
    "\n",
    "# Save to HTML\n",
    "fig.write_html(\"outputs/category_counts.html\")\n",
    "\n",
    "print(\"✅ Saved chart to outputs/category_counts.html\")"
   ]
  },
  {
   "cell_type": "markdown",
   "id": "ac5635af",
   "metadata": {},
   "source": [
    "## 🎂 Age Distribution"
   ]
  },
  {
   "cell_type": "code",
   "execution_count": 39,
   "id": "46837f3c",
   "metadata": {},
   "outputs": [
    {
     "name": "stdout",
     "output_type": "stream",
     "text": [
      "✅ Saved histogram to outputs/age_distribution.html\n"
     ]
    }
   ],
   "source": [
    "fig = px.histogram(df.dropna(subset=[\"age\"]), x=\"age\", nbins=20, title=\"Age Distribution\")\n",
    "fig.write_html(\"outputs/age_distribution.html\")\n",
    "\n",
    "print(\"✅ Saved histogram to outputs/age_distribution.html\")"
   ]
  },
  {
   "cell_type": "markdown",
   "id": "b2b10c7f",
   "metadata": {},
   "source": [
    "## ✏️ Description Length by Category"
   ]
  },
  {
   "cell_type": "code",
   "execution_count": 43,
   "id": "d0ce9ef8",
   "metadata": {},
   "outputs": [
    {
     "name": "stdout",
     "output_type": "stream",
     "text": [
      "✅ Box plot saved to outputs/desc_length_by_category.html\n"
     ]
    }
   ],
   "source": [
    "import plotly.express as px\n",
    "\n",
    "# Make sure `desc_length` is numeric and not missing\n",
    "df = df.dropna(subset=[\"desc_length\", \"category\"])\n",
    "\n",
    "fig = px.box(\n",
    "    df,\n",
    "    x=\"category\",\n",
    "    y=\"desc_length\",\n",
    "    title=\"Description Length by Category\"\n",
    ")\n",
    "\n",
    "# ✅ Save to HTML instead of inline display\n",
    "fig.write_html(\"outputs/desc_length_by_category.html\")\n",
    "\n",
    "print(\"✅ Box plot saved to outputs/desc_length_by_category.html\")\n"
   ]
  },
  {
   "cell_type": "markdown",
   "id": "71db0837",
   "metadata": {},
   "source": [
    "## ☎️ Most Reused Phone Numbers"
   ]
  },
  {
   "cell_type": "code",
   "execution_count": 46,
   "id": "f473f699",
   "metadata": {},
   "outputs": [
    {
     "name": "stdout",
     "output_type": "stream",
     "text": [
      "✅ Bar chart saved to outputs/top_reused_phones.html\n"
     ]
    }
   ],
   "source": [
    "import plotly.express as px\n",
    "\n",
    "# Top reused phone numbers\n",
    "top_phones = df[\"phone\"].value_counts().head(15).reset_index()\n",
    "top_phones.columns = [\"phone\", \"count\"]\n",
    "\n",
    "# Bar chart\n",
    "fig = px.bar(\n",
    "    top_phones,\n",
    "    x=\"phone\",\n",
    "    y=\"count\",\n",
    "    title=\"Top 15 Most Reused Phone Numbers\"\n",
    ")\n",
    "\n",
    "# ✅ Save to outputs folder\n",
    "fig.write_html(\"outputs/top_reused_phones.html\")\n",
    "\n",
    "print(\"✅ Bar chart saved to outputs/top_reused_phones.html\")\n"
   ]
  },
  {
   "cell_type": "markdown",
   "id": "79a2e112",
   "metadata": {},
   "source": [
    "## 📍 Geographic Keywords from Location"
   ]
  },
  {
   "cell_type": "code",
   "execution_count": 47,
   "id": "1041bf8a",
   "metadata": {},
   "outputs": [
    {
     "data": {
      "text/plain": [
       "location\n",
       "melbourne                               129\n",
       "melbourne cbd                             9\n",
       "brisbane                                  8\n",
       "sydney                                    6\n",
       "brunswick                                 3\n",
       "richmond                                  2\n",
       "cbd                                       2\n",
       "surry hills                               1\n",
       "melbourne cbd/ inner & outer suburbs      1\n",
       "perth                                     1\n",
       "geelong                                   1\n",
       "ballarat                                  1\n",
       "online only                               1\n",
       "brisbane or melbourne                     1\n",
       "balaclava                                 1\n",
       "Name: count, dtype: int64"
      ]
     },
     "execution_count": 47,
     "metadata": {},
     "output_type": "execute_result"
    }
   ],
   "source": [
    "df[\"location\"].str.lower().value_counts().head(15)"
   ]
  }
 ],
 "metadata": {
  "kernelspec": {
   "display_name": "transpulse",
   "language": "python",
   "name": "python3"
  },
  "language_info": {
   "codemirror_mode": {
    "name": "ipython",
    "version": 3
   },
   "file_extension": ".py",
   "mimetype": "text/x-python",
   "name": "python",
   "nbconvert_exporter": "python",
   "pygments_lexer": "ipython3",
   "version": "3.10.5"
  }
 },
 "nbformat": 4,
 "nbformat_minor": 5
}
